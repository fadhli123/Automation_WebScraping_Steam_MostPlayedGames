{
 "cells": [
  {
   "cell_type": "code",
   "execution_count": 38,
   "metadata": {},
   "outputs": [],
   "source": [
    "import pandas as pd\n",
    "import time"
   ]
  },
  {
   "cell_type": "code",
   "execution_count": 39,
   "metadata": {},
   "outputs": [],
   "source": [
    "# df = pd.read_csv('./Daily Most Played Games on Steam.csv')\n",
    "\n",
    "# # Game Name Data\n",
    "# game_name = pd.DataFrame()\n",
    "# game_name['Game Name'] = df['Game Name'].drop_duplicates()\n",
    "# game_name.index = range(len(game_name))\n",
    "# game_name.to_csv('./DIM_Game_Name.csv', index=False)"
   ]
  },
  {
   "cell_type": "code",
   "execution_count": 40,
   "metadata": {},
   "outputs": [],
   "source": [
    "# # Date Data\n",
    "# date_data = pd.DataFrame()\n",
    "# date_data['Date'] = pd.to_datetime(df['Date'])\n",
    "# date_data['Year'] = date_data['Date'].dt.year\n",
    "# date_data['Month No'] = date_data['Date'].dt.month\n",
    "# date_data['Month']= date_data['Date'].dt.month_name().str.slice(stop=3)\n",
    "# date_data['Day'] = date_data['Date'].dt.day_name()\n",
    "# date_data.drop_duplicates()\n",
    "# date_data.to_csv('./DIM_Date.csv', index=False)\n"
   ]
  },
  {
   "cell_type": "code",
   "execution_count": 41,
   "metadata": {},
   "outputs": [],
   "source": [
    "# Automation System\n",
    "def parse_data():\n",
    "\n",
    "    df = pd.read_csv('./Data/Daily Most Played Games on Steam.csv')\n",
    "\n",
    "    # Game Name Data\n",
    "    game_name = pd.DataFrame()\n",
    "    game_name['Game Name'] = df['Game Name'].drop_duplicates()\n",
    "    game_name.to_csv('./Data/DIM_Game_Name.csv', index=False)\n",
    "\n",
    "    # Date Data\n",
    "    date_data = pd.DataFrame()\n",
    "    date_data['Date'] = pd.to_datetime(df['Date'])\n",
    "    date_data['Year'] = date_data['Date'].dt.year\n",
    "    date_data['Month No'] = date_data['Date'].dt.month\n",
    "    date_data['Month']= date_data['Date'].dt.month_name().str.slice(stop=3)\n",
    "    date_data['Day'] = date_data['Date'].dt.day_name().str.slice(stop=3)\n",
    "    date_data = date_data.drop_duplicates()\n",
    "    date_data.to_csv('./Data/DIM_Date.csv', index=False)"
   ]
  },
  {
   "cell_type": "code",
   "execution_count": 42,
   "metadata": {},
   "outputs": [],
   "source": [
    "while(True):\n",
    "    parse_data()\n",
    "    time.sleep(3600)"
   ]
  }
 ],
 "metadata": {
  "kernelspec": {
   "display_name": "Python 3.9.13 ('base')",
   "language": "python",
   "name": "python3"
  },
  "language_info": {
   "codemirror_mode": {
    "name": "ipython",
    "version": 3
   },
   "file_extension": ".py",
   "mimetype": "text/x-python",
   "name": "python",
   "nbconvert_exporter": "python",
   "pygments_lexer": "ipython3",
   "version": "3.9.13"
  },
  "orig_nbformat": 4,
  "vscode": {
   "interpreter": {
    "hash": "9b8b1d3367676309ff5682c5b618e639f7327ddd21bca752b58323ca19d18d57"
   }
  }
 },
 "nbformat": 4,
 "nbformat_minor": 2
}
